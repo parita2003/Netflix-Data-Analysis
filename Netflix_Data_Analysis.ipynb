{
  "nbformat": 4,
  "nbformat_minor": 0,
  "metadata": {
    "colab": {
      "provenance": []
    },
    "kernelspec": {
      "name": "python3",
      "display_name": "Python 3"
    },
    "language_info": {
      "name": "python"
    }
  },
  "cells": [
    {
      "cell_type": "markdown",
      "source": [
        "# Import necessary libraries"
      ],
      "metadata": {
        "id": "G6C_Rnho2C2D"
      }
    },
    {
      "cell_type": "code",
      "execution_count": null,
      "metadata": {
        "id": "YKj0g7_Vyr-R"
      },
      "outputs": [],
      "source": [
        "import numpy as np\n",
        "import pandas as pd\n",
        "import matplotlib.pyplot as plt\n",
        "import seaborn as sns\n"
      ]
    },
    {
      "cell_type": "markdown",
      "source": [
        "# Load dataset"
      ],
      "metadata": {
        "id": "QkG-lzH82Jn4"
      }
    },
    {
      "cell_type": "code",
      "source": [
        "df = pd.read_csv('/content/mymoviedb.csv', lineterminator='\\n')\n",
        "print(df.head())"
      ],
      "metadata": {
        "colab": {
          "base_uri": "https://localhost:8080/"
        },
        "id": "IhSMBLEy1WSX",
        "outputId": "dfdfec52-6134-4690-96c1-a1f5df528695"
      },
      "execution_count": null,
      "outputs": [
        {
          "output_type": "stream",
          "name": "stdout",
          "text": [
            "  Release_Date                    Title  \\\n",
            "0   2021-12-15  Spider-Man: No Way Home   \n",
            "1   2022-03-01               The Batman   \n",
            "2   2022-02-25                  No Exit   \n",
            "3   2021-11-24                  Encanto   \n",
            "4   2021-12-22           The King's Man   \n",
            "\n",
            "                                            Overview  Popularity  Vote_Count  \\\n",
            "0  Peter Parker is unmasked and no longer able to...    5083.954        8940   \n",
            "1  In his second year of fighting crime, Batman u...    3827.658        1151   \n",
            "2  Stranded at a rest stop in the mountains durin...    2618.087         122   \n",
            "3  The tale of an extraordinary family, the Madri...    2402.201        5076   \n",
            "4  As a collection of history's worst tyrants and...    1895.511        1793   \n",
            "\n",
            "   Vote_Average Original_Language                               Genre  \\\n",
            "0           8.3                en  Action, Adventure, Science Fiction   \n",
            "1           8.1                en            Crime, Mystery, Thriller   \n",
            "2           6.3                en                            Thriller   \n",
            "3           7.7                en  Animation, Comedy, Family, Fantasy   \n",
            "4           7.0                en    Action, Adventure, Thriller, War   \n",
            "\n",
            "                                          Poster_Url  \n",
            "0  https://image.tmdb.org/t/p/original/1g0dhYtq4i...  \n",
            "1  https://image.tmdb.org/t/p/original/74xTEgt7R3...  \n",
            "2  https://image.tmdb.org/t/p/original/vDHsLnOWKl...  \n",
            "3  https://image.tmdb.org/t/p/original/4j0PNHkMr5...  \n",
            "4  https://image.tmdb.org/t/p/original/aq4Pwv5Xeu...  \n"
          ]
        }
      ]
    },
    {
      "cell_type": "code",
      "source": [
        "df.info()"
      ],
      "metadata": {
        "colab": {
          "base_uri": "https://localhost:8080/"
        },
        "id": "w7RvNe8C1hhG",
        "outputId": "5df92719-1207-4685-d621-f037d2f852c3"
      },
      "execution_count": null,
      "outputs": [
        {
          "output_type": "stream",
          "name": "stdout",
          "text": [
            "<class 'pandas.core.frame.DataFrame'>\n",
            "RangeIndex: 9827 entries, 0 to 9826\n",
            "Data columns (total 9 columns):\n",
            " #   Column             Non-Null Count  Dtype  \n",
            "---  ------             --------------  -----  \n",
            " 0   Release_Date       9827 non-null   object \n",
            " 1   Title              9827 non-null   object \n",
            " 2   Overview           9827 non-null   object \n",
            " 3   Popularity         9827 non-null   float64\n",
            " 4   Vote_Count         9827 non-null   int64  \n",
            " 5   Vote_Average       9827 non-null   float64\n",
            " 6   Original_Language  9827 non-null   object \n",
            " 7   Genre              9827 non-null   object \n",
            " 8   Poster_Url         9827 non-null   object \n",
            "dtypes: float64(2), int64(1), object(6)\n",
            "memory usage: 691.1+ KB\n"
          ]
        }
      ]
    },
    {
      "cell_type": "markdown",
      "source": [
        "# Preprocess the data"
      ],
      "metadata": {
        "id": "LmUZHyUN2RF1"
      }
    },
    {
      "cell_type": "code",
      "source": [
        "print(\"Duplicate Rows: \", df.duplicated().sum())"
      ],
      "metadata": {
        "colab": {
          "base_uri": "https://localhost:8080/"
        },
        "id": "GiHXL4Y51iAr",
        "outputId": "b718ca94-04e7-4fb8-8c8e-2cb02db9165a"
      },
      "execution_count": null,
      "outputs": [
        {
          "output_type": "stream",
          "name": "stdout",
          "text": [
            "Duplicate Rows:  0\n"
          ]
        }
      ]
    },
    {
      "cell_type": "code",
      "source": [
        "df['Release_Date'] = pd.to_datetime(df['Release_Date'])\n",
        "df['Release_Date'] = df['Release_Date'].dt.year"
      ],
      "metadata": {
        "id": "CnfrcVWk1kjz"
      },
      "execution_count": null,
      "outputs": []
    },
    {
      "cell_type": "code",
      "source": [
        "cols_to_drop = ['Overview', 'Original_Language', 'Poster_Url']\n",
        "df.drop(columns=cols_to_drop, inplace=True)"
      ],
      "metadata": {
        "id": "TEuAnqUx1mhT"
      },
      "execution_count": null,
      "outputs": []
    },
    {
      "cell_type": "code",
      "source": [
        "def categorize_votes(df, col, labels):\n",
        "    edges = [df[col].min(), df[col].quantile(0.25), df[col].median(), df[col].quantile(0.75), df[col].max()]\n",
        "    df[col] = pd.cut(df[col], edges, labels=labels, duplicates='drop')\n",
        "    return df\n"
      ],
      "metadata": {
        "id": "qeY_RYwr1odK"
      },
      "execution_count": null,
      "outputs": []
    },
    {
      "cell_type": "code",
      "source": [
        "labels = ['not_popular', 'below_avg', 'average', 'popular']\n",
        "df = categorize_votes(df, 'Vote_Average', labels)\n",
        "print(df['Vote_Average'].value_counts())"
      ],
      "metadata": {
        "colab": {
          "base_uri": "https://localhost:8080/"
        },
        "id": "adfe_xqz1qz5",
        "outputId": "a0104bed-7447-4877-dc5a-f9017709739f"
      },
      "execution_count": null,
      "outputs": [
        {
          "output_type": "stream",
          "name": "stdout",
          "text": [
            "Vote_Average\n",
            "not_popular    2467\n",
            "popular        2450\n",
            "average        2412\n",
            "below_avg      2398\n",
            "Name: count, dtype: int64\n"
          ]
        }
      ]
    },
    {
      "cell_type": "code",
      "source": [
        "df.dropna(inplace=True)"
      ],
      "metadata": {
        "id": "Ylw4pH7m1tDA"
      },
      "execution_count": null,
      "outputs": []
    },
    {
      "cell_type": "code",
      "source": [
        "df['Genre'] = df['Genre'].str.split(', ')\n",
        "df = df.explode('Genre').reset_index(drop=True)\n",
        "df['Genre'] = df['Genre'].astype('category')"
      ],
      "metadata": {
        "id": "ZPrE-k741vDC"
      },
      "execution_count": null,
      "outputs": []
    },
    {
      "cell_type": "markdown",
      "source": [
        "# Data Visualisation"
      ],
      "metadata": {
        "id": "1E2MKJ6C2c4-"
      }
    },
    {
      "cell_type": "code",
      "source": [
        "sns.set_style('whitegrid')"
      ],
      "metadata": {
        "id": "o6low41f1wqs"
      },
      "execution_count": null,
      "outputs": []
    },
    {
      "cell_type": "code",
      "source": [
        "sns.catplot(y='Genre', data=df, kind='count', order=df['Genre'].value_counts().index, color='#4287f5')\n",
        "plt.title('Genre Distribution')\n",
        "plt.show()"
      ],
      "metadata": {
        "colab": {
          "base_uri": "https://localhost:8080/",
          "height": 529
        },
        "id": "-vub903W1yAo",
        "outputId": "d7cde6fe-72bd-4045-900a-035a725cab05"
      },
      "execution_count": null,
      "outputs": [
        {
          "output_type": "display_data",
          "data": {
            "text/plain": [
              "<Figure size 511.111x500 with 1 Axes>"
            ],
            "image/png": "[encoded data removed]"
          },
          "metadata": {}
        }
      ]
    },
    {
      "cell_type": "code",
      "source": [
        "most_popular_movie = df[df['Popularity'] == df['Popularity'].max()]\n",
        "print(\"Most Popular Movie:\\n\", most_popular_movie[['Title', 'Genre', 'Popularity']])"
      ],
      "metadata": {
        "colab": {
          "base_uri": "https://localhost:8080/"
        },
        "id": "RFRoxT5Z10AH",
        "outputId": "e9321c4d-711d-4773-d2d2-0401efb2277a"
      },
      "execution_count": null,
      "outputs": [
        {
          "output_type": "stream",
          "name": "stdout",
          "text": [
            "Most Popular Movie:\n",
            "                      Title            Genre  Popularity\n",
            "0  Spider-Man: No Way Home           Action    5083.954\n",
            "1  Spider-Man: No Way Home        Adventure    5083.954\n",
            "2  Spider-Man: No Way Home  Science Fiction    5083.954\n"
          ]
        }
      ]
    },
    {
      "cell_type": "code",
      "source": [
        "least_popular_movie = df[df['Popularity'] == df['Popularity'].min()]\n",
        "print(\"Least Popular Movie:\\n\", least_popular_movie[['Title', 'Genre', 'Popularity']])"
      ],
      "metadata": {
        "colab": {
          "base_uri": "https://localhost:8080/"
        },
        "id": "vD9y3f_v1190",
        "outputId": "19b7a19b-223b-446d-f86c-4bd84a376513"
      },
      "execution_count": null,
      "outputs": [
        {
          "output_type": "stream",
          "name": "stdout",
          "text": [
            "Least Popular Movie:\n",
            "                                       Title            Genre  Popularity\n",
            "25546  The United States vs. Billie Holiday            Music      13.354\n",
            "25547  The United States vs. Billie Holiday            Drama      13.354\n",
            "25548  The United States vs. Billie Holiday          History      13.354\n",
            "25549                               Threads              War      13.354\n",
            "25550                               Threads            Drama      13.354\n",
            "25551                               Threads  Science Fiction      13.354\n"
          ]
        }
      ]
    },
    {
      "cell_type": "code",
      "source": [
        "df['Release_Date'].hist()\n",
        "plt.title('Movies Released Per Year')\n",
        "plt.show()\n"
      ],
      "metadata": {
        "colab": {
          "base_uri": "https://localhost:8080/",
          "height": 452
        },
        "id": "-VQQLSQ1136b",
        "outputId": "6a6e60dc-8bfd-417b-cc20-6d75894c01f4"
      },
      "execution_count": null,
      "outputs": [
        {
          "output_type": "display_data",
          "data": {
            "text/plain": [
              "<Figure size 640x480 with 1 Axes>"
            ],
            "image/png": "[encoded data removed]"
          },
          "metadata": {}
        }
      ]
    }
  ]
}